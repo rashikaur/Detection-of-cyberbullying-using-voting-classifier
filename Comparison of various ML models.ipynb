{
 "cells": [
  {
   "cell_type": "code",
   "execution_count": null,
   "metadata": {},
   "outputs": [],
   "source": [
    "#This Jupyter notebook compares the accuracies of the various machine learning models used. The model that gives the \n",
    "#highest accuracy and precison is selected.\n"
   ]
  },
  {
   "cell_type": "code",
   "execution_count": 1,
   "metadata": {},
   "outputs": [],
   "source": [
    "import numpy as np\n",
    "import re\n",
    "import nltk\n",
    "#from sklearn.datasets import load_files\n",
    "#nltk.download('stopwords')\n",
    "import pickle\n",
    "from nltk.corpus import stopwords\n",
    "import pandas as pd \n",
    "from sklearn.feature_extraction.text import CountVectorizer\n",
    "from sklearn.naive_bayes import MultinomialNB\n",
    "from sklearn.metrics import classification_report, confusion_matrix, accuracy_score\n",
    "from sklearn.model_selection import train_test_split\n",
    "from sklearn.ensemble import RandomForestClassifier\n",
    "#from sklearn.naive_bayes import GaussianNB\n",
    "from sklearn.linear_model import LogisticRegression\n",
    "from sklearn import svm\n",
    "from sklearn.neighbors import KNeighborsClassifier\n",
    "from sklearn.linear_model import SGDClassifier\n",
    "from sklearn.tree import DecisionTreeClassifier\n",
    "from sklearn.ensemble import AdaBoostClassifier\n",
    "from sklearn.neural_network import MLPClassifier\n",
    "import sklearn.discriminant_analysis\n",
    "from sklearn.discriminant_analysis import QuadraticDiscriminantAnalysis\n",
    "import sklearn.discriminant_analysis\n",
    "from sklearn.discriminant_analysis import LinearDiscriminantAnalysis\n",
    "from sklearn.ensemble import VotingClassifier\n",
    "from sklearn import model_selection\n",
    "from sklearn.svm import SVC\n",
    "import warnings"
   ]
  },
  {
   "cell_type": "code",
   "execution_count": 2,
   "metadata": {},
   "outputs": [],
   "source": [
    "df= pd.read_csv(\"data.csv\")\n",
    "df['label'] = df['Text Label'].map({'Non-Bullying': 0, 'Bullying': 1})\n",
    "df['message']=df['Tweet']\n",
    "df.drop(['Text Label','Tweet'],axis=1,inplace=True)\n",
    "X = df['message']\n",
    "y = df['label']\n"
   ]
  },
  {
   "cell_type": "code",
   "execution_count": 3,
   "metadata": {},
   "outputs": [
    {
     "name": "stdout",
     "output_type": "stream",
     "text": [
      "0    yeah I got 2 backups for all that. I just hate...\n",
      "1    I hate using my BB  but love my iPhone. Haven'...\n",
      "2                               Get fucking real dude.\n",
      "3     She is as dirty as they come  and that crook ...\n",
      "4     why did you fuck it up. I could do it all day...\n",
      "Name: message, dtype: object\n"
     ]
    }
   ],
   "source": [
    "print(X.head())\n",
    "# Extract Feature With CountVectorizer\n",
    "cv = CountVectorizer()\n",
    "X = cv.fit_transform(X) # Fit the Data\n",
    "from sklearn.model_selection import train_test_split\n",
    "X_train, X_test, y_train, y_test = train_test_split(X, y, test_size=0.33, random_state=42)\n"
   ]
  },
  {
   "cell_type": "code",
   "execution_count": 4,
   "metadata": {},
   "outputs": [
    {
     "name": "stderr",
     "output_type": "stream",
     "text": [
      "C:\\Users\\Rashi\\Anaconda3\\lib\\site-packages\\sklearn\\linear_model\\logistic.py:432: FutureWarning: Default solver will be changed to 'lbfgs' in 0.22. Specify a solver to silence this warning.\n",
      "  FutureWarning)\n"
     ]
    },
    {
     "name": "stdout",
     "output_type": "stream",
     "text": [
      "[[1942  340]\n",
      " [ 668  471]]\n",
      "              precision    recall  f1-score   support\n",
      "\n",
      "           0       0.74      0.85      0.79      2282\n",
      "           1       0.58      0.41      0.48      1139\n",
      "\n",
      "    accuracy                           0.71      3421\n",
      "   macro avg       0.66      0.63      0.64      3421\n",
      "weighted avg       0.69      0.71      0.69      3421\n",
      "\n",
      "0.7053493130663548\n"
     ]
    }
   ],
   "source": [
    "LogisticR = LogisticRegression()\n",
    "LogisticR.fit(X_train, y_train) \n",
    "y_pred = LogisticR.predict(X_test)\n",
    "print(confusion_matrix(y_test,y_pred))\n",
    "print(classification_report(y_test,y_pred))\n",
    "print(accuracy_score(y_test, y_pred))\n",
    "LR = accuracy_score(y_test, y_pred)"
   ]
  },
  {
   "cell_type": "code",
   "execution_count": 5,
   "metadata": {},
   "outputs": [
    {
     "name": "stdout",
     "output_type": "stream",
     "text": [
      "[[1942  340]\n",
      " [ 668  471]]\n",
      "              precision    recall  f1-score   support\n",
      "\n",
      "           0       0.74      0.85      0.79      2282\n",
      "           1       0.58      0.41      0.48      1139\n",
      "\n",
      "    accuracy                           0.71      3421\n",
      "   macro avg       0.66      0.63      0.64      3421\n",
      "weighted avg       0.69      0.71      0.69      3421\n",
      "\n",
      "0.7053493130663548\n"
     ]
    }
   ],
   "source": [
    "RandomForest = RandomForestClassifier(n_estimators=1000, random_state=0)\n",
    "RandomForest.fit(X_train, y_train) \n",
    "print(confusion_matrix(y_test,y_pred))\n",
    "print(classification_report(y_test,y_pred))\n",
    "print(accuracy_score(y_test, y_pred))\n",
    "RF = accuracy_score(y_test, y_pred)"
   ]
  },
  {
   "cell_type": "code",
   "execution_count": 6,
   "metadata": {},
   "outputs": [
    {
     "name": "stdout",
     "output_type": "stream",
     "text": [
      "[[1977  305]\n",
      " [ 713  426]]\n",
      "              precision    recall  f1-score   support\n",
      "\n",
      "           0       0.73      0.87      0.80      2282\n",
      "           1       0.58      0.37      0.46      1139\n",
      "\n",
      "    accuracy                           0.70      3421\n",
      "   macro avg       0.66      0.62      0.63      3421\n",
      "weighted avg       0.68      0.70      0.68      3421\n",
      "\n",
      "0.7024261911721719\n"
     ]
    }
   ],
   "source": [
    "AdaBoost = AdaBoostClassifier(n_estimators=100, random_state=0)\n",
    "AdaBoost.fit(X_train, y_train)\n",
    "AdaBoostClassifier(n_estimators=100, random_state=0)\n",
    "y_pred = AdaBoost.predict(X_test)\n",
    "print(confusion_matrix(y_test,y_pred))\n",
    "print(classification_report(y_test,y_pred))\n",
    "print(accuracy_score(y_test, y_pred))\n",
    "AB= accuracy_score(y_test, y_pred)"
   ]
  },
  {
   "cell_type": "code",
   "execution_count": 7,
   "metadata": {},
   "outputs": [
    {
     "name": "stdout",
     "output_type": "stream",
     "text": [
      "[[1791  491]\n",
      " [ 637  502]]\n",
      "              precision    recall  f1-score   support\n",
      "\n",
      "           0       0.74      0.78      0.76      2282\n",
      "           1       0.51      0.44      0.47      1139\n",
      "\n",
      "    accuracy                           0.67      3421\n",
      "   macro avg       0.62      0.61      0.62      3421\n",
      "weighted avg       0.66      0.67      0.66      3421\n",
      "\n",
      "0.670271850336159\n"
     ]
    },
    {
     "name": "stderr",
     "output_type": "stream",
     "text": [
      "C:\\Users\\Rashi\\Anaconda3\\lib\\site-packages\\sklearn\\linear_model\\stochastic_gradient.py:561: ConvergenceWarning: Maximum number of iteration reached before convergence. Consider increasing max_iter to improve the fit.\n",
      "  ConvergenceWarning)\n"
     ]
    }
   ],
   "source": [
    "SGD = SGDClassifier(loss=\"hinge\", penalty=\"l2\", max_iter=5)\n",
    "SGD.fit(X_train, y_train)\n",
    "SGDClassifier(max_iter=5)\n",
    "y_pred = SGD.predict(X_test)\n",
    "print(confusion_matrix(y_test,y_pred))\n",
    "print(classification_report(y_test,y_pred))\n",
    "print(accuracy_score(y_test, y_pred))\n",
    "SGDA = accuracy_score(y_test, y_pred)"
   ]
  },
  {
   "cell_type": "code",
   "execution_count": 8,
   "metadata": {},
   "outputs": [
    {
     "name": "stdout",
     "output_type": "stream",
     "text": [
      "[[1154 1128]\n",
      " [ 396  743]]\n",
      "              precision    recall  f1-score   support\n",
      "\n",
      "           0       0.74      0.51      0.60      2282\n",
      "           1       0.40      0.65      0.49      1139\n",
      "\n",
      "    accuracy                           0.55      3421\n",
      "   macro avg       0.57      0.58      0.55      3421\n",
      "weighted avg       0.63      0.55      0.57      3421\n",
      "\n",
      "0.5545162233265127\n"
     ]
    }
   ],
   "source": [
    "KNN = KNeighborsClassifier(n_neighbors=3)\n",
    "KNN.fit(X_train, y_train)\n",
    "y_pred = KNN.predict(X_test)\n",
    "print(confusion_matrix(y_test,y_pred))\n",
    "print(classification_report(y_test,y_pred))\n",
    "print(accuracy_score(y_test, y_pred))\n",
    "KNNA = accuracy_score(y_test, y_pred)"
   ]
  },
  {
   "cell_type": "code",
   "execution_count": 9,
   "metadata": {},
   "outputs": [
    {
     "name": "stdout",
     "output_type": "stream",
     "text": [
      "[[1710  572]\n",
      " [ 611  528]]\n",
      "              precision    recall  f1-score   support\n",
      "\n",
      "           0       0.74      0.75      0.74      2282\n",
      "           1       0.48      0.46      0.47      1139\n",
      "\n",
      "    accuracy                           0.65      3421\n",
      "   macro avg       0.61      0.61      0.61      3421\n",
      "weighted avg       0.65      0.65      0.65      3421\n",
      "\n",
      "0.6541946799181526\n"
     ]
    }
   ],
   "source": [
    "DecisionTree = DecisionTreeClassifier()\n",
    "DecisionTree.fit(X_train, y_train)\n",
    "y_pred = DecisionTree.predict(X_test)\n",
    "print(confusion_matrix(y_test,y_pred))\n",
    "print(classification_report(y_test,y_pred))\n",
    "print(accuracy_score(y_test, y_pred))\n",
    "DT = accuracy_score(y_test, y_pred)"
   ]
  },
  {
   "cell_type": "code",
   "execution_count": 10,
   "metadata": {},
   "outputs": [
    {
     "name": "stdout",
     "output_type": "stream",
     "text": [
      "[[2094  188]\n",
      " [ 925  214]]\n",
      "              precision    recall  f1-score   support\n",
      "\n",
      "           0       0.69      0.92      0.79      2282\n",
      "           1       0.53      0.19      0.28      1139\n",
      "\n",
      "    accuracy                           0.67      3421\n",
      "   macro avg       0.61      0.55      0.53      3421\n",
      "weighted avg       0.64      0.67      0.62      3421\n",
      "\n",
      "0.6746565331774335\n"
     ]
    }
   ],
   "source": [
    "MultinomialNB = MultinomialNB()\n",
    "MultinomialNB.fit(X_train, y_train)\n",
    "y_pred = MultinomialNB.predict(X_test)\n",
    "print(confusion_matrix(y_test,y_pred))\n",
    "print(classification_report(y_test,y_pred))\n",
    "print(accuracy_score(y_test, y_pred))\n",
    "MNB = accuracy_score(y_test, y_pred)"
   ]
  },
  {
   "cell_type": "code",
   "execution_count": 11,
   "metadata": {},
   "outputs": [
    {
     "name": "stdout",
     "output_type": "stream",
     "text": [
      "VotingClassifier(estimators=[('logistic',\n",
      "                              LogisticRegression(C=1.0, class_weight=None,\n",
      "                                                 dual=False, fit_intercept=True,\n",
      "                                                 intercept_scaling=1,\n",
      "                                                 l1_ratio=None, max_iter=100,\n",
      "                                                 multi_class='warn',\n",
      "                                                 n_jobs=None, penalty='l2',\n",
      "                                                 random_state=None,\n",
      "                                                 solver='warn', tol=0.0001,\n",
      "                                                 verbose=0, warm_start=False)),\n",
      "                             ('cart',\n",
      "                              RandomForestClassifier(bootstrap=True,\n",
      "                                                     class_weight=None,\n",
      "                                                     criterion...\n",
      "                                                     oob_score=False,\n",
      "                                                     random_state=None,\n",
      "                                                     verbose=0,\n",
      "                                                     warm_start=False)),\n",
      "                             ('svm',\n",
      "                              SVC(C=1.0, cache_size=200, class_weight=None,\n",
      "                                  coef0=0.0, decision_function_shape='ovr',\n",
      "                                  degree=3, gamma='auto_deprecated',\n",
      "                                  kernel='rbf', max_iter=-1, probability=False,\n",
      "                                  random_state=None, shrinking=True, tol=0.001,\n",
      "                                  verbose=False))],\n",
      "                 flatten_transform=True, n_jobs=None, voting='hard',\n",
      "                 weights=None)\n",
      "[[2198   84]\n",
      " [ 861  278]]\n",
      "              precision    recall  f1-score   support\n",
      "\n",
      "           0       0.72      0.96      0.82      2282\n",
      "           1       0.77      0.24      0.37      1139\n",
      "\n",
      "    accuracy                           0.72      3421\n",
      "   macro avg       0.74      0.60      0.60      3421\n",
      "weighted avg       0.73      0.72      0.67      3421\n",
      "\n",
      "0.7237649809997077\n"
     ]
    }
   ],
   "source": [
    "seed = 7\n",
    "kfold = model_selection.KFold(n_splits=10, random_state=seed)\n",
    "estimators = []\n",
    "model1 = LogisticRegression()\n",
    "estimators.append(('logistic', model1))\n",
    "model2 = RandomForestClassifier()\n",
    "estimators.append(('cart', model2))\n",
    "model3 = SVC()\n",
    "estimators.append(('svm', model3))\n",
    "\n",
    "# create the ensemble model\n",
    "ensemble = VotingClassifier(estimators)\n",
    "warnings.simplefilter(\"ignore\")\n",
    "\n",
    "print(ensemble)\n",
    "ensemble.fit(X_train, y_train)\n",
    "\n",
    "y_pred = ensemble.predict(X_test)\n",
    "print(confusion_matrix(y_test,y_pred))\n",
    "print(classification_report(y_test,y_pred))\n",
    "print(accuracy_score(y_test, y_pred))\n",
    "\n",
    "E= accuracy_score(y_test, y_pred)"
   ]
  },
  {
   "cell_type": "code",
   "execution_count": 12,
   "metadata": {},
   "outputs": [
    {
     "name": "stdout",
     "output_type": "stream",
     "text": [
      "VotingClassifier(estimators=[('logistic',\n",
      "                              LogisticRegression(C=1.0, class_weight=None,\n",
      "                                                 dual=False, fit_intercept=True,\n",
      "                                                 intercept_scaling=1,\n",
      "                                                 l1_ratio=None, max_iter=100,\n",
      "                                                 multi_class='warn',\n",
      "                                                 n_jobs=None, penalty='l2',\n",
      "                                                 random_state=None,\n",
      "                                                 solver='warn', tol=0.0001,\n",
      "                                                 verbose=0, warm_start=False)),\n",
      "                             ('cart',\n",
      "                              RandomForestClassifier(bootstrap=True,\n",
      "                                                     class_weight=None,\n",
      "                                                     criterion...\n",
      "                                            class_weight=None,\n",
      "                                            early_stopping=False, epsilon=0.1,\n",
      "                                            eta0=0.0, fit_intercept=True,\n",
      "                                            l1_ratio=0.15,\n",
      "                                            learning_rate='optimal',\n",
      "                                            loss='hinge', max_iter=5,\n",
      "                                            n_iter_no_change=5, n_jobs=None,\n",
      "                                            penalty='l2', power_t=0.5,\n",
      "                                            random_state=None, shuffle=True,\n",
      "                                            tol=0.001, validation_fraction=0.1,\n",
      "                                            verbose=0, warm_start=False))],\n",
      "                 flatten_transform=True, n_jobs=None, voting='hard',\n",
      "                 weights=None)\n",
      "[[2229   53]\n",
      " [ 875  264]]\n",
      "              precision    recall  f1-score   support\n",
      "\n",
      "           0       0.72      0.98      0.83      2282\n",
      "           1       0.83      0.23      0.36      1139\n",
      "\n",
      "    accuracy                           0.73      3421\n",
      "   macro avg       0.78      0.60      0.60      3421\n",
      "weighted avg       0.76      0.73      0.67      3421\n",
      "\n",
      "0.7287342882198188\n"
     ]
    }
   ],
   "source": [
    "seed = 7\n",
    "kfold = model_selection.KFold(n_splits=10, random_state=seed)\n",
    "estimators = []\n",
    "model1 = LogisticRegression()\n",
    "estimators.append(('logistic', model1))\n",
    "model2 = RandomForestClassifier()\n",
    "estimators.append(('cart', model2))\n",
    "model3 = SVC()\n",
    "estimators.append(('svm', model3))\n",
    "model4 = SGDClassifier(loss=\"hinge\", penalty=\"l2\", max_iter=5)\n",
    "estimators.append(('sgd', model4))\n",
    "\n",
    "warnings.simplefilter(\"ignore\")\n",
    "# create the ensemble model\n",
    "ensemble2 = VotingClassifier(estimators)\n",
    "\n",
    "print(ensemble2)\n",
    "\n",
    "ensemble2.fit(X_train, y_train)\n",
    "\n",
    "y_pred = ensemble2.predict(X_test)\n",
    "print(confusion_matrix(y_test,y_pred))\n",
    "print(classification_report(y_test,y_pred))\n",
    "print(accuracy_score(y_test, y_pred))\n",
    "\n",
    "E2 = accuracy_score(y_test, y_pred)"
   ]
  },
  {
   "cell_type": "code",
   "execution_count": 13,
   "metadata": {},
   "outputs": [
    {
     "name": "stdout",
     "output_type": "stream",
     "text": [
      "VotingClassifier(estimators=[('logistic',\n",
      "                              LogisticRegression(C=1.0, class_weight=None,\n",
      "                                                 dual=False, fit_intercept=True,\n",
      "                                                 intercept_scaling=1,\n",
      "                                                 l1_ratio=None, max_iter=100,\n",
      "                                                 multi_class='warn',\n",
      "                                                 n_jobs=None, penalty='l2',\n",
      "                                                 random_state=None,\n",
      "                                                 solver='warn', tol=0.0001,\n",
      "                                                 verbose=0, warm_start=False)),\n",
      "                             ('cart',\n",
      "                              RandomForestClassifier(bootstrap=True,\n",
      "                                                     class_weight=None,\n",
      "                                                     criterion...\n",
      "                                            class_weight=None,\n",
      "                                            early_stopping=False, epsilon=0.1,\n",
      "                                            eta0=0.0, fit_intercept=True,\n",
      "                                            l1_ratio=0.15,\n",
      "                                            learning_rate='optimal',\n",
      "                                            loss='hinge', max_iter=5,\n",
      "                                            n_iter_no_change=5, n_jobs=None,\n",
      "                                            penalty='l2', power_t=0.5,\n",
      "                                            random_state=None, shuffle=True,\n",
      "                                            tol=0.001, validation_fraction=0.1,\n",
      "                                            verbose=0, warm_start=False))],\n",
      "                 flatten_transform=True, n_jobs=None, voting='hard',\n",
      "                 weights=None)\n",
      "[[2013  269]\n",
      " [ 708  431]]\n",
      "              precision    recall  f1-score   support\n",
      "\n",
      "           0       0.74      0.88      0.80      2282\n",
      "           1       0.62      0.38      0.47      1139\n",
      "\n",
      "    accuracy                           0.71      3421\n",
      "   macro avg       0.68      0.63      0.64      3421\n",
      "weighted avg       0.70      0.71      0.69      3421\n",
      "\n",
      "0.7144109909383222\n"
     ]
    }
   ],
   "source": [
    "seed = 7\n",
    "kfold = model_selection.KFold(n_splits=10, random_state=seed)\n",
    "estimators = []\n",
    "model1 = LogisticRegression()\n",
    "estimators.append(('logistic', model1))\n",
    "model2 = RandomForestClassifier()\n",
    "estimators.append(('cart', model2))\n",
    "model4 = SGDClassifier(loss=\"hinge\", penalty=\"l2\", max_iter=5)\n",
    "estimators.append(('sgd', model4))\n",
    "warnings.simplefilter(\"ignore\")\n",
    "\n",
    "\n",
    "# create the ensemble model\n",
    "ensemble3 = VotingClassifier(estimators)\n",
    "\n",
    "print(ensemble3)\n",
    "\n",
    "ensemble3.fit(X_train, y_train)\n",
    "\n",
    "y_pred = ensemble3.predict(X_test)\n",
    "print(confusion_matrix(y_test,y_pred))\n",
    "print(classification_report(y_test,y_pred))\n",
    "print(accuracy_score(y_test, y_pred))\n",
    "\n",
    "E3 = accuracy_score(y_test, y_pred)"
   ]
  },
  {
   "cell_type": "code",
   "execution_count": 14,
   "metadata": {},
   "outputs": [
    {
     "name": "stdout",
     "output_type": "stream",
     "text": [
      "VotingClassifier(estimators=[('logistic',\n",
      "                              LogisticRegression(C=1.0, class_weight=None,\n",
      "                                                 dual=False, fit_intercept=True,\n",
      "                                                 intercept_scaling=1,\n",
      "                                                 l1_ratio=None, max_iter=100,\n",
      "                                                 multi_class='warn',\n",
      "                                                 n_jobs=None, penalty='l2',\n",
      "                                                 random_state=None,\n",
      "                                                 solver='warn', tol=0.0001,\n",
      "                                                 verbose=0, warm_start=False)),\n",
      "                             ('cart',\n",
      "                              DecisionTreeClassifier(class_weight=None,\n",
      "                                                     criterion='gini',\n",
      "                                                     max_dep...\n",
      "                                                     min_weight_fraction_leaf=0.0,\n",
      "                                                     presort=False,\n",
      "                                                     random_state=None,\n",
      "                                                     splitter='best')),\n",
      "                             ('svm',\n",
      "                              SVC(C=1.0, cache_size=200, class_weight=None,\n",
      "                                  coef0=0.0, decision_function_shape='ovr',\n",
      "                                  degree=3, gamma='auto_deprecated',\n",
      "                                  kernel='rbf', max_iter=-1, probability=False,\n",
      "                                  random_state=None, shrinking=True, tol=0.001,\n",
      "                                  verbose=False))],\n",
      "                 flatten_transform=True, n_jobs=None, voting='hard',\n",
      "                 weights=None)\n",
      "[[2153  129]\n",
      " [ 817  322]]\n",
      "              precision    recall  f1-score   support\n",
      "\n",
      "           0       0.72      0.94      0.82      2282\n",
      "           1       0.71      0.28      0.41      1139\n",
      "\n",
      "    accuracy                           0.72      3421\n",
      "   macro avg       0.72      0.61      0.61      3421\n",
      "weighted avg       0.72      0.72      0.68      3421\n",
      "\n",
      "0.7234726688102894\n"
     ]
    }
   ],
   "source": [
    "seed = 7\n",
    "kfold = model_selection.KFold(n_splits=10, random_state=seed)\n",
    "# create the sub models\n",
    "estimators = []\n",
    "model1 = LogisticRegression()\n",
    "estimators.append(('logistic', model1))\n",
    "model2 = DecisionTreeClassifier()\n",
    "estimators.append(('cart', model2))\n",
    "model3 = SVC()\n",
    "estimators.append(('svm', model3))\n",
    "warnings.simplefilter(\"ignore\")\n",
    "\n",
    "# create the ensemble model\n",
    "ensemble4 = VotingClassifier(estimators)\n",
    "\n",
    "print(ensemble4)\n",
    "\n",
    "ensemble4.fit(X_train, y_train)\n",
    "\n",
    "y_pred = ensemble4.predict(X_test)\n",
    "print(confusion_matrix(y_test,y_pred))\n",
    "print(classification_report(y_test,y_pred))\n",
    "print(accuracy_score(y_test, y_pred))\n",
    "\n",
    "E4 = accuracy_score(y_test, y_pred)"
   ]
  },
  {
   "cell_type": "code",
   "execution_count": 15,
   "metadata": {},
   "outputs": [
    {
     "name": "stdout",
     "output_type": "stream",
     "text": [
      "VotingClassifier(estimators=[('logistic',\n",
      "                              LogisticRegression(C=1.0, class_weight=None,\n",
      "                                                 dual=False, fit_intercept=True,\n",
      "                                                 intercept_scaling=1,\n",
      "                                                 l1_ratio=None, max_iter=100,\n",
      "                                                 multi_class='warn',\n",
      "                                                 n_jobs=None, penalty='l2',\n",
      "                                                 random_state=None,\n",
      "                                                 solver='warn', tol=0.0001,\n",
      "                                                 verbose=0, warm_start=False)),\n",
      "                             ('cart',\n",
      "                              DecisionTreeClassifier(class_weight=None,\n",
      "                                                     criterion='gini',\n",
      "                                                     max_dep...\n",
      "                                                     oob_score=False,\n",
      "                                                     random_state=None,\n",
      "                                                     verbose=0,\n",
      "                                                     warm_start=False)),\n",
      "                             ('svm',\n",
      "                              SVC(C=1.0, cache_size=200, class_weight=None,\n",
      "                                  coef0=0.0, decision_function_shape='ovr',\n",
      "                                  degree=3, gamma='auto_deprecated',\n",
      "                                  kernel='rbf', max_iter=-1, probability=False,\n",
      "                                  random_state=None, shrinking=True, tol=0.001,\n",
      "                                  verbose=False))],\n",
      "                 flatten_transform=True, n_jobs=None, voting='hard',\n",
      "                 weights=None)\n",
      "[[2230   52]\n",
      " [ 890  249]]\n",
      "              precision    recall  f1-score   support\n",
      "\n",
      "           0       0.71      0.98      0.83      2282\n",
      "           1       0.83      0.22      0.35      1139\n",
      "\n",
      "    accuracy                           0.72      3421\n",
      "   macro avg       0.77      0.60      0.59      3421\n",
      "weighted avg       0.75      0.72      0.67      3421\n",
      "\n",
      "0.7246419175679626\n"
     ]
    }
   ],
   "source": [
    "seed = 7\n",
    "kfold = model_selection.KFold(n_splits=10, random_state=seed)\n",
    "estimators = []\n",
    "model1 = LogisticRegression()\n",
    "estimators.append(('logistic', model1))\n",
    "model2 = DecisionTreeClassifier()\n",
    "estimators.append(('cart', model2))\n",
    "model3 = RandomForestClassifier()\n",
    "estimators.append(('rf', model3))\n",
    "model4 = SVC()\n",
    "estimators.append(('svm', model4))\n",
    "#model4 = SGDClassifier(loss=\"hinge\", penalty=\"l2\", max_iter=5)\n",
    "#estimators.append(('sgd', model4))\n",
    "\n",
    "warnings.simplefilter(\"ignore\")\n",
    "# create the ensemble model\n",
    "ensemble5 = VotingClassifier(estimators)\n",
    "\n",
    "print(ensemble5)\n",
    "\n",
    "ensemble5.fit(X_train, y_train)\n",
    "\n",
    "y_pred = ensemble5.predict(X_test)\n",
    "print(confusion_matrix(y_test,y_pred))\n",
    "print(classification_report(y_test,y_pred))\n",
    "print(accuracy_score(y_test, y_pred))\n",
    "\n",
    "E5 = accuracy_score(y_test, y_pred)"
   ]
  },
  {
   "cell_type": "code",
   "execution_count": 16,
   "metadata": {},
   "outputs": [
    {
     "name": "stdout",
     "output_type": "stream",
     "text": [
      "VotingClassifier(estimators=[('logistic',\n",
      "                              LogisticRegression(C=1.0, class_weight=None,\n",
      "                                                 dual=False, fit_intercept=True,\n",
      "                                                 intercept_scaling=1,\n",
      "                                                 l1_ratio=None, max_iter=100,\n",
      "                                                 multi_class='warn',\n",
      "                                                 n_jobs=None, penalty='l2',\n",
      "                                                 random_state=None,\n",
      "                                                 solver='warn', tol=0.0001,\n",
      "                                                 verbose=0, warm_start=False)),\n",
      "                             ('cart',\n",
      "                              DecisionTreeClassifier(class_weight=None,\n",
      "                                                     criterion='gini',\n",
      "                                                     max_dep...\n",
      "                                            class_weight=None,\n",
      "                                            early_stopping=False, epsilon=0.1,\n",
      "                                            eta0=0.0, fit_intercept=True,\n",
      "                                            l1_ratio=0.15,\n",
      "                                            learning_rate='optimal',\n",
      "                                            loss='hinge', max_iter=5,\n",
      "                                            n_iter_no_change=5, n_jobs=None,\n",
      "                                            penalty='l2', power_t=0.5,\n",
      "                                            random_state=None, shuffle=True,\n",
      "                                            tol=0.001, validation_fraction=0.1,\n",
      "                                            verbose=0, warm_start=False))],\n",
      "                 flatten_transform=True, n_jobs=None, voting='hard',\n",
      "                 weights=None)\n",
      "[[2118  164]\n",
      " [ 774  365]]\n",
      "              precision    recall  f1-score   support\n",
      "\n",
      "           0       0.73      0.93      0.82      2282\n",
      "           1       0.69      0.32      0.44      1139\n",
      "\n",
      "    accuracy                           0.73      3421\n",
      "   macro avg       0.71      0.62      0.63      3421\n",
      "weighted avg       0.72      0.73      0.69      3421\n",
      "\n",
      "0.7258111663256358\n"
     ]
    }
   ],
   "source": [
    "seed = 7\n",
    "kfold = model_selection.KFold(n_splits=10, random_state=seed)\n",
    "estimators = []\n",
    "model1 = LogisticRegression()\n",
    "estimators.append(('logistic', model1))\n",
    "model2 = DecisionTreeClassifier()\n",
    "estimators.append(('cart', model2))\n",
    "model3 = RandomForestClassifier()\n",
    "estimators.append(('rf', model3))\n",
    "model4 = SVC()\n",
    "estimators.append(('svm', model4))\n",
    "model5 = SGDClassifier(loss=\"hinge\", penalty=\"l2\", max_iter=5)\n",
    "estimators.append(('sgd', model5))\n",
    "\n",
    "warnings.simplefilter(\"ignore\")\n",
    "# create the ensemble model\n",
    "ensemble6 = VotingClassifier(estimators)\n",
    "\n",
    "print(ensemble6)\n",
    "\n",
    "ensemble6.fit(X_train, y_train)\n",
    "\n",
    "y_pred = ensemble6.predict(X_test)\n",
    "print(confusion_matrix(y_test,y_pred))\n",
    "print(classification_report(y_test,y_pred))\n",
    "print(accuracy_score(y_test, y_pred))\n",
    "\n",
    "E6 = accuracy_score(y_test, y_pred)"
   ]
  },
  {
   "cell_type": "code",
   "execution_count": 17,
   "metadata": {},
   "outputs": [
    {
     "name": "stdout",
     "output_type": "stream",
     "text": [
      "VotingClassifier(estimators=[('logistic',\n",
      "                              LogisticRegression(C=1.0, class_weight=None,\n",
      "                                                 dual=False, fit_intercept=True,\n",
      "                                                 intercept_scaling=1,\n",
      "                                                 l1_ratio=None, max_iter=100,\n",
      "                                                 multi_class='warn',\n",
      "                                                 n_jobs=None, penalty='l2',\n",
      "                                                 random_state=None,\n",
      "                                                 solver='warn', tol=0.0001,\n",
      "                                                 verbose=0, warm_start=False)),\n",
      "                             ('cart',\n",
      "                              DecisionTreeClassifier(class_weight=None,\n",
      "                                                     criterion='gini',\n",
      "                                                     max_dep...\n",
      "                                            loss='hinge', max_iter=5,\n",
      "                                            n_iter_no_change=5, n_jobs=None,\n",
      "                                            penalty='l2', power_t=0.5,\n",
      "                                            random_state=None, shuffle=True,\n",
      "                                            tol=0.001, validation_fraction=0.1,\n",
      "                                            verbose=0, warm_start=False)),\n",
      "                             ('ada',\n",
      "                              AdaBoostClassifier(algorithm='SAMME.R',\n",
      "                                                 base_estimator=None,\n",
      "                                                 learning_rate=1.0,\n",
      "                                                 n_estimators=100,\n",
      "                                                 random_state=0))],\n",
      "                 flatten_transform=True, n_jobs=None, voting='hard',\n",
      "                 weights=None)\n",
      "[[2201   81]\n",
      " [ 842  297]]\n",
      "              precision    recall  f1-score   support\n",
      "\n",
      "           0       0.72      0.96      0.83      2282\n",
      "           1       0.79      0.26      0.39      1139\n",
      "\n",
      "    accuracy                           0.73      3421\n",
      "   macro avg       0.75      0.61      0.61      3421\n",
      "weighted avg       0.74      0.73      0.68      3421\n",
      "\n",
      "0.7301958491669103\n"
     ]
    }
   ],
   "source": [
    "seed = 7\n",
    "kfold = model_selection.KFold(n_splits=10, random_state=seed)\n",
    "estimators = []\n",
    "model1 = LogisticRegression()\n",
    "estimators.append(('logistic', model1))\n",
    "model2 = DecisionTreeClassifier()\n",
    "estimators.append(('cart', model2))\n",
    "model3 = RandomForestClassifier()\n",
    "estimators.append(('rf', model3))\n",
    "model4 = SVC()\n",
    "estimators.append(('svm', model4))\n",
    "model5 = SGDClassifier(loss=\"hinge\", penalty=\"l2\", max_iter=5)\n",
    "estimators.append(('sgd', model5))\n",
    "model6 = AdaBoostClassifier(n_estimators=100, random_state=0)\n",
    "estimators.append(('ada', model6))\n",
    "\n",
    "warnings.simplefilter(\"ignore\")\n",
    "# create the ensemble model\n",
    "ensemble7 = VotingClassifier(estimators)\n",
    "\n",
    "print(ensemble7)\n",
    "\n",
    "ensemble7.fit(X_train, y_train)\n",
    "\n",
    "y_pred = ensemble7.predict(X_test)\n",
    "print(confusion_matrix(y_test,y_pred))\n",
    "print(classification_report(y_test,y_pred))\n",
    "print(accuracy_score(y_test, y_pred))\n",
    "\n",
    "E7 = accuracy_score(y_test, y_pred)"
   ]
  },
  {
   "cell_type": "code",
   "execution_count": 18,
   "metadata": {},
   "outputs": [
    {
     "name": "stdout",
     "output_type": "stream",
     "text": [
      "VotingClassifier(estimators=[('logistic',\n",
      "                              LogisticRegression(C=1.0, class_weight=None,\n",
      "                                                 dual=False, fit_intercept=True,\n",
      "                                                 intercept_scaling=1,\n",
      "                                                 l1_ratio=None, max_iter=100,\n",
      "                                                 multi_class='warn',\n",
      "                                                 n_jobs=None, penalty='l2',\n",
      "                                                 random_state=None,\n",
      "                                                 solver='warn', tol=0.0001,\n",
      "                                                 verbose=0, warm_start=False)),\n",
      "                             ('cart',\n",
      "                              DecisionTreeClassifier(class_weight=None,\n",
      "                                                     criterion='gini',\n",
      "                                                     max_dep...\n",
      "                                            verbose=0, warm_start=False)),\n",
      "                             ('ada',\n",
      "                              AdaBoostClassifier(algorithm='SAMME.R',\n",
      "                                                 base_estimator=None,\n",
      "                                                 learning_rate=1.0,\n",
      "                                                 n_estimators=100,\n",
      "                                                 random_state=0)),\n",
      "                             ('knn',\n",
      "                              KNeighborsClassifier(algorithm='auto',\n",
      "                                                   leaf_size=30,\n",
      "                                                   metric='minkowski',\n",
      "                                                   metric_params=None,\n",
      "                                                   n_jobs=None, n_neighbors=3,\n",
      "                                                   p=2, weights='uniform'))],\n",
      "                 flatten_transform=True, n_jobs=None, voting='hard',\n",
      "                 weights=None)\n",
      "[[2095  187]\n",
      " [ 765  374]]\n",
      "              precision    recall  f1-score   support\n",
      "\n",
      "           0       0.73      0.92      0.81      2282\n",
      "           1       0.67      0.33      0.44      1139\n",
      "\n",
      "    accuracy                           0.72      3421\n",
      "   macro avg       0.70      0.62      0.63      3421\n",
      "weighted avg       0.71      0.72      0.69      3421\n",
      "\n",
      "0.7217187956737796\n"
     ]
    }
   ],
   "source": [
    "seed = 7\n",
    "kfold = model_selection.KFold(n_splits=10, random_state=seed)\n",
    "estimators = []\n",
    "model1 = LogisticRegression()\n",
    "estimators.append(('logistic', model1))\n",
    "model2 = DecisionTreeClassifier()\n",
    "estimators.append(('cart', model2))\n",
    "model3 = RandomForestClassifier()\n",
    "estimators.append(('rf', model3))\n",
    "model4 = SVC()\n",
    "estimators.append(('svm', model4))\n",
    "model5 = SGDClassifier(loss=\"hinge\", penalty=\"l2\", max_iter=5)\n",
    "estimators.append(('sgd', model5))\n",
    "model6 = AdaBoostClassifier(n_estimators=100, random_state=0)\n",
    "estimators.append(('ada', model6))\n",
    "model7 = KNeighborsClassifier(n_neighbors=3)\n",
    "estimators.append(('knn', model7))\n",
    "\n",
    "warnings.simplefilter(\"ignore\")\n",
    "# create the ensemble model\n",
    "ensemble8 = VotingClassifier(estimators)\n",
    "\n",
    "print(ensemble8)\n",
    "\n",
    "ensemble8.fit(X_train, y_train)\n",
    "\n",
    "y_pred = ensemble8.predict(X_test)\n",
    "print(confusion_matrix(y_test,y_pred))\n",
    "print(classification_report(y_test,y_pred))\n",
    "print(accuracy_score(y_test, y_pred))\n",
    "\n",
    "E8 = accuracy_score(y_test, y_pred)"
   ]
  },
  {
   "cell_type": "code",
   "execution_count": 19,
   "metadata": {},
   "outputs": [],
   "source": [
    "accuracies = [LR, RF, AB, SGDA, KNNA, DT, MNB, E, E2, E3, E4, E5, E6, E7, E8]\n"
   ]
  },
  {
   "cell_type": "code",
   "execution_count": 20,
   "metadata": {},
   "outputs": [],
   "source": [
    "for i in range(0, len(accuracies)):\n",
    "    accuracies[i] = accuracies[i]*100 "
   ]
  },
  {
   "cell_type": "code",
   "execution_count": 21,
   "metadata": {},
   "outputs": [
    {
     "data": {
      "text/plain": [
       "[70.53493130663549,\n",
       " 70.53493130663549,\n",
       " 70.24261911721719,\n",
       " 67.0271850336159,\n",
       " 55.451622332651276,\n",
       " 65.41946799181527,\n",
       " 67.46565331774335,\n",
       " 72.37649809997076,\n",
       " 72.87342882198188,\n",
       " 71.44109909383222,\n",
       " 72.34726688102894,\n",
       " 72.46419175679625,\n",
       " 72.58111663256358,\n",
       " 73.01958491669103,\n",
       " 72.17187956737796]"
      ]
     },
     "execution_count": 21,
     "metadata": {},
     "output_type": "execute_result"
    }
   ],
   "source": [
    "accuracies"
   ]
  },
  {
   "cell_type": "code",
   "execution_count": 22,
   "metadata": {},
   "outputs": [],
   "source": [
    "models = ['LogitR' , 'RF', 'AdaB', 'SGDA', 'KNN', 'DT', 'MNB', 'E', 'E2','E3', 'E4', 'E5', 'E6', 'E7', 'E8']"
   ]
  },
  {
   "cell_type": "code",
   "execution_count": 24,
   "metadata": {},
   "outputs": [
    {
     "data": {
      "image/png": "[encoded data removed]",
      "text/plain": [
       "<Figure size 432x288 with 1 Axes>"
      ]
     },
     "metadata": {
      "needs_background": "light"
     },
     "output_type": "display_data"
    }
   ],
   "source": [
    "import matplotlib.pyplot as plt\n",
    "fig = plt.figure()\n",
    "ax = fig.add_axes([0,0,1,1])\n",
    "ax.bar(models,accuracies)\n",
    "plt.xlabel(\"Algortithm\")\n",
    "plt.ylabel(\"Accuracy (in %)\")\n",
    "plt.show()"
   ]
  },
  {
   "cell_type": "code",
   "execution_count": null,
   "metadata": {},
   "outputs": [],
   "source": []
  }
 ],
 "metadata": {
  "kernelspec": {
   "display_name": "Python 3",
   "language": "python",
   "name": "python3"
  },
  "language_info": {
   "codemirror_mode": {
    "name": "ipython",
    "version": 3
   },
   "file_extension": ".py",
   "mimetype": "text/x-python",
   "name": "python",
   "nbconvert_exporter": "python",
   "pygments_lexer": "ipython3",
   "version": "3.7.3"
  }
 },
 "nbformat": 4,
 "nbformat_minor": 2
}
